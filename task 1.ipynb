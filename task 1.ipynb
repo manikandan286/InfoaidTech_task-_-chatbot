{
  "nbformat": 4,
  "nbformat_minor": 0,
  "metadata": {
    "colab": {
      "provenance": []
    },
    "kernelspec": {
      "name": "python3",
      "display_name": "Python 3"
    },
    "language_info": {
      "name": "python"
    }
  },
  "cells": [
    {
      "cell_type": "code",
      "execution_count": 1,
      "metadata": {
        "colab": {
          "base_uri": "https://localhost:8080/"
        },
        "id": "YVzISn2HMpYz",
        "outputId": "1a7b543c-8931-4fff-b920-0ef48a064a34"
      },
      "outputs": [
        {
          "output_type": "stream",
          "name": "stdout",
          "text": [
            "Requirement already satisfied: nltk in /usr/local/lib/python3.10/dist-packages (3.8.1)\n",
            "Requirement already satisfied: click in /usr/local/lib/python3.10/dist-packages (from nltk) (8.1.7)\n",
            "Requirement already satisfied: joblib in /usr/local/lib/python3.10/dist-packages (from nltk) (1.3.2)\n",
            "Requirement already satisfied: regex>=2021.8.3 in /usr/local/lib/python3.10/dist-packages (from nltk) (2023.6.3)\n",
            "Requirement already satisfied: tqdm in /usr/local/lib/python3.10/dist-packages (from nltk) (4.66.1)\n"
          ]
        }
      ],
      "source": [
        "pip install nltk\n"
      ]
    },
    {
      "cell_type": "code",
      "source": [
        "import nltk\n",
        "from nltk.tokenize import word_tokenize\n",
        "from nltk.corpus import stopwords\n",
        "\n",
        "nltk.download('punkt')\n",
        "nltk.download('stopwords')\n",
        "\n",
        "# Sample dataset\n",
        "dataset = {\n",
        "    \"conversations\": [\n",
        "        {\"input\": \"Hello\", \"output\": \"Hi there! How can I help you?\"},\n",
        "        {\"input\": \"What's the weather like?\", \"output\": \"I'm sorry, I'm not able to provide weather information.\"},\n",
        "        {\"input\": \"Tell me a joke\", \"output\": \"Why don't scientists trust atoms? Because they make up everything!\"},\n",
        "        {\"input\": \"Goodbye\", \"output\": \"Have a great day!\"}\n",
        "    ]\n",
        "}\n",
        "\n",
        "# NLTK setup\n",
        "stop_words = set(stopwords.words('english'))\n",
        "\n",
        "# Tokenize and remove stopwords\n",
        "def preprocess_text(text):\n",
        "    words = word_tokenize(text.lower())\n",
        "    return [word for word in words if word.isalnum() and word not in stop_words]\n",
        "\n",
        "# Find the most similar input in the dataset\n",
        "def find_most_similar(user_input, dataset):\n",
        "    user_words = preprocess_text(user_input)\n",
        "\n",
        "    max_similarity = 0\n",
        "    response = \"I'm sorry, I don't understand.\"\n",
        "\n",
        "    for convo in dataset['conversations']:\n",
        "        convo_words = preprocess_text(convo['input'])\n",
        "        similarity = len(set(user_words).intersection(convo_words))\n",
        "\n",
        "        if similarity > max_similarity:\n",
        "            max_similarity = similarity\n",
        "            response = convo['output']\n",
        "\n",
        "    return response\n",
        "\n",
        "# Main chat function\n",
        "def chatbot(user_input):\n",
        "    response = find_most_similar(user_input, dataset)\n",
        "    return response\n",
        "\n",
        "# User Interface (UI) - console-based\n",
        "while True:\n",
        "    user_input = input(\"You: \")\n",
        "    if user_input.lower() == 'exit':\n",
        "        print(\"Chatbot: Goodbye!\")\n",
        "        break\n",
        "\n",
        "    bot_response = chatbot(user_input)\n",
        "    print(\"Chatbot:\", bot_response)\n"
      ],
      "metadata": {
        "colab": {
          "base_uri": "https://localhost:8080/"
        },
        "id": "4rF3W7iQM21r",
        "outputId": "cc48fa9c-939d-4b0c-d242-5a32a7af1df1"
      },
      "execution_count": null,
      "outputs": [
        {
          "metadata": {
            "tags": null
          },
          "name": "stderr",
          "output_type": "stream",
          "text": [
            "[nltk_data] Downloading package punkt to /root/nltk_data...\n",
            "[nltk_data]   Unzipping tokenizers/punkt.zip.\n",
            "[nltk_data] Downloading package stopwords to /root/nltk_data...\n",
            "[nltk_data]   Unzipping corpora/stopwords.zip.\n"
          ]
        },
        {
          "metadata": {
            "tags": null
          },
          "name": "stdout",
          "output_type": "stream",
          "text": [
            "Chatbot: Hi there! How can I help you?\n",
            "Chatbot: I'm sorry, I'm not able to provide weather information.\n",
            "Chatbot: Why don't scientists trust atoms? Because they make up everything!\n",
            "Chatbot: Have a great day!\n"
          ]
        }
      ]
    }
  ]
}